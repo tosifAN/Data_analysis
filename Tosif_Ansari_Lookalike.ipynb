{
 "cells": [
  {
   "cell_type": "code",
   "execution_count": 1,
   "id": "17cd7da4",
   "metadata": {},
   "outputs": [],
   "source": [
    "import pandas as pd\n",
    "from sklearn.preprocessing import StandardScaler\n",
    "from sklearn.metrics.pairwise import cosine_similarity\n",
    "import numpy as np\n",
    "\n",
    "# Load datasets\n",
    "customers = pd.read_csv(\"Customers.csv\")\n",
    "products = pd.read_csv(\"Products.csv\")\n",
    "transactions = pd.read_csv(\"Transactions.csv\")\n"
   ]
  },
  {
   "cell_type": "code",
   "execution_count": 2,
   "id": "6f5a79d5",
   "metadata": {},
   "outputs": [
    {
     "data": {
      "text/html": [
       "<div>\n",
       "<style scoped>\n",
       "    .dataframe tbody tr th:only-of-type {\n",
       "        vertical-align: middle;\n",
       "    }\n",
       "\n",
       "    .dataframe tbody tr th {\n",
       "        vertical-align: top;\n",
       "    }\n",
       "\n",
       "    .dataframe thead th {\n",
       "        text-align: right;\n",
       "    }\n",
       "</style>\n",
       "<table border=\"1\" class=\"dataframe\">\n",
       "  <thead>\n",
       "    <tr style=\"text-align: right;\">\n",
       "      <th></th>\n",
       "      <th>CustomerID</th>\n",
       "      <th>CustomerName</th>\n",
       "      <th>Region</th>\n",
       "      <th>SignupDate</th>\n",
       "    </tr>\n",
       "  </thead>\n",
       "  <tbody>\n",
       "    <tr>\n",
       "      <th>0</th>\n",
       "      <td>C0001</td>\n",
       "      <td>Lawrence Carroll</td>\n",
       "      <td>South America</td>\n",
       "      <td>2022-07-10</td>\n",
       "    </tr>\n",
       "    <tr>\n",
       "      <th>1</th>\n",
       "      <td>C0002</td>\n",
       "      <td>Elizabeth Lutz</td>\n",
       "      <td>Asia</td>\n",
       "      <td>2022-02-13</td>\n",
       "    </tr>\n",
       "    <tr>\n",
       "      <th>2</th>\n",
       "      <td>C0003</td>\n",
       "      <td>Michael Rivera</td>\n",
       "      <td>South America</td>\n",
       "      <td>2024-03-07</td>\n",
       "    </tr>\n",
       "    <tr>\n",
       "      <th>3</th>\n",
       "      <td>C0004</td>\n",
       "      <td>Kathleen Rodriguez</td>\n",
       "      <td>South America</td>\n",
       "      <td>2022-10-09</td>\n",
       "    </tr>\n",
       "    <tr>\n",
       "      <th>4</th>\n",
       "      <td>C0005</td>\n",
       "      <td>Laura Weber</td>\n",
       "      <td>Asia</td>\n",
       "      <td>2022-08-15</td>\n",
       "    </tr>\n",
       "  </tbody>\n",
       "</table>\n",
       "</div>"
      ],
      "text/plain": [
       "  CustomerID        CustomerName         Region  SignupDate\n",
       "0      C0001    Lawrence Carroll  South America  2022-07-10\n",
       "1      C0002      Elizabeth Lutz           Asia  2022-02-13\n",
       "2      C0003      Michael Rivera  South America  2024-03-07\n",
       "3      C0004  Kathleen Rodriguez  South America  2022-10-09\n",
       "4      C0005         Laura Weber           Asia  2022-08-15"
      ]
     },
     "execution_count": 2,
     "metadata": {},
     "output_type": "execute_result"
    }
   ],
   "source": [
    "customers.head()"
   ]
  },
  {
   "cell_type": "code",
   "execution_count": 3,
   "id": "ad8b161d",
   "metadata": {},
   "outputs": [
    {
     "data": {
      "text/html": [
       "<div>\n",
       "<style scoped>\n",
       "    .dataframe tbody tr th:only-of-type {\n",
       "        vertical-align: middle;\n",
       "    }\n",
       "\n",
       "    .dataframe tbody tr th {\n",
       "        vertical-align: top;\n",
       "    }\n",
       "\n",
       "    .dataframe thead th {\n",
       "        text-align: right;\n",
       "    }\n",
       "</style>\n",
       "<table border=\"1\" class=\"dataframe\">\n",
       "  <thead>\n",
       "    <tr style=\"text-align: right;\">\n",
       "      <th></th>\n",
       "      <th>ProductID</th>\n",
       "      <th>ProductName</th>\n",
       "      <th>Category</th>\n",
       "      <th>Price</th>\n",
       "    </tr>\n",
       "  </thead>\n",
       "  <tbody>\n",
       "    <tr>\n",
       "      <th>0</th>\n",
       "      <td>P001</td>\n",
       "      <td>ActiveWear Biography</td>\n",
       "      <td>Books</td>\n",
       "      <td>169.30</td>\n",
       "    </tr>\n",
       "    <tr>\n",
       "      <th>1</th>\n",
       "      <td>P002</td>\n",
       "      <td>ActiveWear Smartwatch</td>\n",
       "      <td>Electronics</td>\n",
       "      <td>346.30</td>\n",
       "    </tr>\n",
       "    <tr>\n",
       "      <th>2</th>\n",
       "      <td>P003</td>\n",
       "      <td>ComfortLiving Biography</td>\n",
       "      <td>Books</td>\n",
       "      <td>44.12</td>\n",
       "    </tr>\n",
       "    <tr>\n",
       "      <th>3</th>\n",
       "      <td>P004</td>\n",
       "      <td>BookWorld Rug</td>\n",
       "      <td>Home Decor</td>\n",
       "      <td>95.69</td>\n",
       "    </tr>\n",
       "    <tr>\n",
       "      <th>4</th>\n",
       "      <td>P005</td>\n",
       "      <td>TechPro T-Shirt</td>\n",
       "      <td>Clothing</td>\n",
       "      <td>429.31</td>\n",
       "    </tr>\n",
       "  </tbody>\n",
       "</table>\n",
       "</div>"
      ],
      "text/plain": [
       "  ProductID              ProductName     Category   Price\n",
       "0      P001     ActiveWear Biography        Books  169.30\n",
       "1      P002    ActiveWear Smartwatch  Electronics  346.30\n",
       "2      P003  ComfortLiving Biography        Books   44.12\n",
       "3      P004            BookWorld Rug   Home Decor   95.69\n",
       "4      P005          TechPro T-Shirt     Clothing  429.31"
      ]
     },
     "execution_count": 3,
     "metadata": {},
     "output_type": "execute_result"
    }
   ],
   "source": [
    "products.head()"
   ]
  },
  {
   "cell_type": "code",
   "execution_count": 4,
   "id": "c209ae1e",
   "metadata": {},
   "outputs": [
    {
     "data": {
      "text/html": [
       "<div>\n",
       "<style scoped>\n",
       "    .dataframe tbody tr th:only-of-type {\n",
       "        vertical-align: middle;\n",
       "    }\n",
       "\n",
       "    .dataframe tbody tr th {\n",
       "        vertical-align: top;\n",
       "    }\n",
       "\n",
       "    .dataframe thead th {\n",
       "        text-align: right;\n",
       "    }\n",
       "</style>\n",
       "<table border=\"1\" class=\"dataframe\">\n",
       "  <thead>\n",
       "    <tr style=\"text-align: right;\">\n",
       "      <th></th>\n",
       "      <th>TransactionID</th>\n",
       "      <th>CustomerID</th>\n",
       "      <th>ProductID</th>\n",
       "      <th>TransactionDate</th>\n",
       "      <th>Quantity</th>\n",
       "      <th>TotalValue</th>\n",
       "      <th>Price</th>\n",
       "    </tr>\n",
       "  </thead>\n",
       "  <tbody>\n",
       "    <tr>\n",
       "      <th>0</th>\n",
       "      <td>T00001</td>\n",
       "      <td>C0199</td>\n",
       "      <td>P067</td>\n",
       "      <td>2024-08-25 12:38:23</td>\n",
       "      <td>1</td>\n",
       "      <td>300.68</td>\n",
       "      <td>300.68</td>\n",
       "    </tr>\n",
       "    <tr>\n",
       "      <th>1</th>\n",
       "      <td>T00112</td>\n",
       "      <td>C0146</td>\n",
       "      <td>P067</td>\n",
       "      <td>2024-05-27 22:23:54</td>\n",
       "      <td>1</td>\n",
       "      <td>300.68</td>\n",
       "      <td>300.68</td>\n",
       "    </tr>\n",
       "    <tr>\n",
       "      <th>2</th>\n",
       "      <td>T00166</td>\n",
       "      <td>C0127</td>\n",
       "      <td>P067</td>\n",
       "      <td>2024-04-25 07:38:55</td>\n",
       "      <td>1</td>\n",
       "      <td>300.68</td>\n",
       "      <td>300.68</td>\n",
       "    </tr>\n",
       "    <tr>\n",
       "      <th>3</th>\n",
       "      <td>T00272</td>\n",
       "      <td>C0087</td>\n",
       "      <td>P067</td>\n",
       "      <td>2024-03-26 22:55:37</td>\n",
       "      <td>2</td>\n",
       "      <td>601.36</td>\n",
       "      <td>300.68</td>\n",
       "    </tr>\n",
       "    <tr>\n",
       "      <th>4</th>\n",
       "      <td>T00363</td>\n",
       "      <td>C0070</td>\n",
       "      <td>P067</td>\n",
       "      <td>2024-03-21 15:10:10</td>\n",
       "      <td>3</td>\n",
       "      <td>902.04</td>\n",
       "      <td>300.68</td>\n",
       "    </tr>\n",
       "  </tbody>\n",
       "</table>\n",
       "</div>"
      ],
      "text/plain": [
       "  TransactionID CustomerID ProductID      TransactionDate  Quantity  \\\n",
       "0        T00001      C0199      P067  2024-08-25 12:38:23         1   \n",
       "1        T00112      C0146      P067  2024-05-27 22:23:54         1   \n",
       "2        T00166      C0127      P067  2024-04-25 07:38:55         1   \n",
       "3        T00272      C0087      P067  2024-03-26 22:55:37         2   \n",
       "4        T00363      C0070      P067  2024-03-21 15:10:10         3   \n",
       "\n",
       "   TotalValue   Price  \n",
       "0      300.68  300.68  \n",
       "1      300.68  300.68  \n",
       "2      300.68  300.68  \n",
       "3      601.36  300.68  \n",
       "4      902.04  300.68  "
      ]
     },
     "execution_count": 4,
     "metadata": {},
     "output_type": "execute_result"
    }
   ],
   "source": [
    "transactions.head()"
   ]
  },
  {
   "cell_type": "code",
   "execution_count": 5,
   "id": "b8ddd461",
   "metadata": {},
   "outputs": [],
   "source": [
    "# Merge datasets for analysis\n",
    "merged_data = transactions.merge(customers, on=\"CustomerID\").merge(products, on=\"ProductID\")\n"
   ]
  },
  {
   "cell_type": "code",
   "execution_count": 6,
   "id": "09ef6783",
   "metadata": {},
   "outputs": [],
   "source": [
    "# Feature Engineering\n",
    "# 1. Total spend per customer\n",
    "customer_spend = merged_data.groupby(\"CustomerID\")[\"TotalValue\"].sum().rename(\"TotalSpend\")\n",
    "\n",
    "# 2. Average transaction value per customer\n",
    "avg_transaction_value = merged_data.groupby(\"CustomerID\")[\"TotalValue\"].mean().rename(\"AvgTransactionValue\")\n",
    "\n",
    "# 3. Purchase frequency (total transactions per customer)\n",
    "purchase_frequency = merged_data.groupby(\"CustomerID\").size().rename(\"PurchaseFrequency\")\n"
   ]
  },
  {
   "cell_type": "code",
   "execution_count": 7,
   "id": "6cf949f7",
   "metadata": {},
   "outputs": [],
   "source": [
    "# 4. Preferred product category (most purchased category for each customer)\n",
    "def preferred_category(group):\n",
    "    return group.groupby(\"Category\")[\"Quantity\"].sum().idxmax()"
   ]
  },
  {
   "cell_type": "code",
   "execution_count": 8,
   "id": "568916ff",
   "metadata": {},
   "outputs": [],
   "source": [
    "preferred_category = merged_data.groupby(\"CustomerID\").apply(preferred_category).rename(\"PreferredCategory\")\n"
   ]
  },
  {
   "cell_type": "code",
   "execution_count": 9,
   "id": "4a85b606",
   "metadata": {},
   "outputs": [],
   "source": [
    "# Combine all features into a single DataFrame\n",
    "customer_features = pd.concat([customer_spend, avg_transaction_value, purchase_frequency, preferred_category], axis=1)\n",
    "\n",
    "# One-hot encode the preferred category\n",
    "customer_features = pd.get_dummies(customer_features, columns=[\"PreferredCategory\"], drop_first=True)\n"
   ]
  },
  {
   "cell_type": "code",
   "execution_count": 10,
   "id": "cd0b917c",
   "metadata": {},
   "outputs": [],
   "source": [
    "# Normalize numerical features\n",
    "scaler = StandardScaler()\n",
    "numerical_features = [\"TotalSpend\", \"AvgTransactionValue\", \"PurchaseFrequency\"]\n",
    "customer_features[numerical_features] = scaler.fit_transform(customer_features[numerical_features])\n"
   ]
  },
  {
   "cell_type": "code",
   "execution_count": 11,
   "id": "17cb7371",
   "metadata": {},
   "outputs": [],
   "source": [
    "# Compute Cosine Similarity\n",
    "similarity_matrix = cosine_similarity(customer_features)\n",
    "\n",
    "# Convert similarity matrix to a DataFrame\n",
    "similarity_df = pd.DataFrame(similarity_matrix, index=customer_features.index, columns=customer_features.index)\n",
    "\n"
   ]
  },
  {
   "cell_type": "code",
   "execution_count": 12,
   "id": "8f370c8c",
   "metadata": {},
   "outputs": [],
   "source": [
    "# Function to get top 3 similar customers for a given customer\n",
    "def get_top_3_similar(customers, similarity_df):\n",
    "    lookalike_map = {}\n",
    "    for customer_id in customers:\n",
    "        similar_customers = similarity_df[customer_id].sort_values(ascending=False).iloc[1:4]  # Exclude self\n",
    "        lookalike_map[customer_id] = list(zip(similar_customers.index, similar_customers.values))\n",
    "    return lookalike_map"
   ]
  },
  {
   "cell_type": "code",
   "execution_count": 13,
   "id": "b746be12",
   "metadata": {},
   "outputs": [],
   "source": [
    "# Get top 3 lookalikes for customers C0001 to C0020\n",
    "customer_ids = customers.loc[customers[\"CustomerID\"].isin([f\"C{str(i).zfill(4)}\" for i in range(1, 21)]), \"CustomerID\"]\n",
    "lookalike_map = get_top_3_similar(customer_ids, similarity_df)"
   ]
  },
  {
   "cell_type": "code",
   "execution_count": 14,
   "id": "ffd60abd",
   "metadata": {},
   "outputs": [],
   "source": [
    "# Save to Lookalike.csv\n",
    "lookalike_data = []\n",
    "for cust_id, lookalikes in lookalike_map.items():\n",
    "    for similar_cust_id, score in lookalikes:\n",
    "        lookalike_data.append({\"CustomerID\": cust_id, \"SimilarCustomerID\": similar_cust_id, \"Score\": score})\n",
    "\n",
    "lookalike_df = pd.DataFrame(lookalike_data)\n",
    "lookalike_df.to_csv(\"Lookalike.csv\", index=False)"
   ]
  },
  {
   "cell_type": "code",
   "execution_count": 15,
   "id": "90dd88c4",
   "metadata": {},
   "outputs": [
    {
     "name": "stdout",
     "output_type": "stream",
     "text": [
      "Lookalike Map:\n",
      "C0001: [('C0072', 0.9461051769363842), ('C0190', 0.9415577271671418), ('C0069', 0.9105496531690128)]\n",
      "C0002: [('C0199', 0.9982365684360944), ('C0025', 0.9934620809563768), ('C0071', 0.973715079531913)]\n",
      "C0003: [('C0178', 0.999865879448906), ('C0133', 0.98706169870118), ('C0052', 0.9754103448062152)]\n",
      "C0004: [('C0108', 0.9827182639674003), ('C0113', 0.9785391786723804), ('C0012', 0.9654988139733864)]\n",
      "C0005: [('C0197', 0.9953167594730895), ('C0130', 0.9502003454619035), ('C0035', 0.9500727303343954)]\n",
      "C0006: [('C0117', 0.9984084372142995), ('C0185', 0.9538881367763729), ('C0011', 0.9367227677406286)]\n",
      "C0007: [('C0085', 0.9998669294762257), ('C0120', 0.9949897643552797), ('C0140', 0.9798101409546568)]\n",
      "C0008: [('C0109', 0.9698722815670315), ('C0093', 0.9365582499229672), ('C0098', 0.9307192939474349)]\n",
      "C0009: [('C0077', 0.9997899920904881), ('C0032', 0.9974206107805481), ('C0033', 0.9817031601343669)]\n",
      "C0010: [('C0029', 0.99957123050574), ('C0031', 0.9904300201174321), ('C0009', 0.9807961382416003)]\n",
      "C0011: [('C0048', 0.9998279888669044), ('C0016', 0.9997808516381224), ('C0064', 0.9994750309311059)]\n",
      "C0012: [('C0108', 0.98460236420707), ('C0104', 0.9718143504908034), ('C0004', 0.9654988139733864)]\n",
      "C0013: [('C0143', 0.9999265905268067), ('C0046', 0.9933566399089792), ('C0099', 0.9861744175216884)]\n",
      "C0014: [('C0128', 0.9961184019336933), ('C0151', 0.9951226288241956), ('C0097', 0.9844326007917693)]\n",
      "C0015: [('C0095', 0.9923223457915739), ('C0123', 0.9703522701074451), ('C0159', 0.9542843611925671)]\n",
      "C0016: [('C0048', 0.999997149167357), ('C0064', 0.9999342403768492), ('C0037', 0.9998135178581482)]\n",
      "C0017: [('C0075', 0.9735986193393384), ('C0021', 0.9571453782505621), ('C0109', 0.9461741960663629)]\n",
      "C0018: [('C0114', 0.9719360888652222), ('C0096', 0.9615123567715722), ('C0168', 0.9331696367700006)]\n",
      "C0019: [('C0119', 0.9535183212528259), ('C0174', 0.9469893448255104), ('C0191', 0.944833079329395)]\n",
      "C0020: [('C0140', 0.9796729281741055), ('C0120', 0.9462685197676154), ('C0007', 0.9367167099388614)]\n"
     ]
    }
   ],
   "source": [
    "# Output Lookalike Map\n",
    "print(\"Lookalike Map:\")\n",
    "for cust_id, lookalikes in lookalike_map.items():\n",
    "    print(f\"{cust_id}: {lookalikes}\")\n"
   ]
  },
  {
   "cell_type": "code",
   "execution_count": null,
   "id": "83175894",
   "metadata": {},
   "outputs": [],
   "source": []
  }
 ],
 "metadata": {
  "kernelspec": {
   "display_name": "Python 3 (ipykernel)",
   "language": "python",
   "name": "python3"
  },
  "language_info": {
   "codemirror_mode": {
    "name": "ipython",
    "version": 3
   },
   "file_extension": ".py",
   "mimetype": "text/x-python",
   "name": "python",
   "nbconvert_exporter": "python",
   "pygments_lexer": "ipython3",
   "version": "3.10.11"
  }
 },
 "nbformat": 4,
 "nbformat_minor": 5
}
